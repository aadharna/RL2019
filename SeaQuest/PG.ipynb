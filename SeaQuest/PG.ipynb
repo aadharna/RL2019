{
 "cells": [
  {
   "cell_type": "markdown",
   "metadata": {},
   "source": [
    "## Advanced Policy Gradient Methods for SeaQuest"
   ]
  },
  {
   "cell_type": "code",
   "execution_count": 1,
   "metadata": {},
   "outputs": [],
   "source": [
    "import gym\n",
    "\n",
    "import numpy as np\n",
    "import torch as t\n",
    "import torch.nn as nn\n",
    "import torch.optim as optim\n",
    "from torch.distributions import Categorical\n",
    "\n",
    "from tqdm import tqdm\n",
    "\n",
    "import torchvision.transforms as T\n",
    "\n",
    "from PIL import Image\n",
    "from matplotlib import pyplot as plt\n",
    "import matplotlib.image as mpimg"
   ]
  },
  {
   "cell_type": "code",
   "execution_count": 2,
   "metadata": {},
   "outputs": [],
   "source": [
    "env = gym.make(\"Seaquest-v0\")"
   ]
  },
  {
   "cell_type": "code",
   "execution_count": 3,
   "metadata": {},
   "outputs": [
    {
     "data": {
      "text/plain": [
       "Discrete(18)"
      ]
     },
     "execution_count": 3,
     "metadata": {},
     "output_type": "execute_result"
    }
   ],
   "source": [
    "env.action_space"
   ]
  },
  {
   "cell_type": "markdown",
   "metadata": {},
   "source": [
    "Action Space: 18 Discrete Actions; combinations of simple actions are enumerated"
   ]
  },
  {
   "cell_type": "code",
   "execution_count": 4,
   "metadata": {},
   "outputs": [],
   "source": [
    "class StateStream():\n",
    "    def __init__(self, numPhotos=4):\n",
    "        #queue to save the most recent 4 images\n",
    "        self.images = []\n",
    "        self.numPhotos = numPhotos\n",
    "        \n",
    "        self.to_tensor = T.ToTensor()\n",
    "    \n",
    "    def push(self, im):\n",
    "        im = self._preprocess(im)\n",
    "        self.images.append(im)\n",
    "        \n",
    "        # ensure valid length and queue structure\n",
    "        if len(self.images) >= self.numPhotos:\n",
    "            self._pop()\n",
    "        else:\n",
    "            while len(self.images) < self.numPhotos:\n",
    "                self.images.append(im)\n",
    "    \n",
    "    def _preprocess(self, im):\n",
    "        \"\"\"Preprocess an Image\n",
    "        \n",
    "        Crop out the area with the relevant game area (currently hardcoded)\n",
    "        Greyscale and resize\n",
    "        Convert to torch tensor\n",
    "        \"\"\"\n",
    "        x_min, x_max = 8, 160\n",
    "        y_min, y_max = 46, 175\n",
    "        im = im[y_min:y_max, x_min:x_max]\n",
    "        im = Image.fromarray(im).convert('L').resize((84,84))\n",
    "        return self.to_tensor(im)\n",
    "\n",
    "    def _pop(self):\n",
    "        self.images.pop(0)\n",
    "    \n",
    "    @property\n",
    "    def processedState(self):\n",
    "        return t.stack(self.images)"
   ]
  },
  {
   "cell_type": "code",
   "execution_count": 5,
   "metadata": {},
   "outputs": [],
   "source": [
    "#Class to create a Policy Network\n",
    "class Policy(nn.Module):\n",
    "    def __init__(self):\n",
    "        super(Policy, self).__init__()\n",
    "        #todo: add Policy Network structure!\n",
    "        \n",
    "    def forward(self, x):\n",
    "        return self.sequence(x)"
   ]
  },
  {
   "cell_type": "code",
   "execution_count": 6,
   "metadata": {},
   "outputs": [],
   "source": [
    "class Value(nn.Module):\n",
    "    def __init__(self):\n",
    "        super(Value, self).__init__()\n",
    "        #todo: add Value Network Sturcture\n",
    "        \n",
    "    def forward(self, x):\n",
    "        return self.forward(x)"
   ]
  },
  {
   "cell_type": "code",
   "execution_count": null,
   "metadata": {},
   "outputs": [],
   "source": []
  }
 ],
 "metadata": {
  "kernelspec": {
   "display_name": "Python 3",
   "language": "python",
   "name": "python3"
  },
  "language_info": {
   "codemirror_mode": {
    "name": "ipython",
    "version": 3
   },
   "file_extension": ".py",
   "mimetype": "text/x-python",
   "name": "python",
   "nbconvert_exporter": "python",
   "pygments_lexer": "ipython3",
   "version": "3.7.3"
  }
 },
 "nbformat": 4,
 "nbformat_minor": 2
}
