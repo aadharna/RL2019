{
 "cells": [
  {
   "cell_type": "markdown",
   "metadata": {},
   "source": [
    "## Aaron and Mike code robits for LyonBoi"
   ]
  },
  {
   "cell_type": "markdown",
   "metadata": {},
   "source": [
    "- introduce noise into actions taken by robot (velocity angle, +/- epsilon?)\n",
    "- pick a reasonable map. \n",
    "- flag out raycasting/shadows\n",
    "- 2 robots start together (beside each other) (draw from position distribution)\n",
    "- Address problem with simple matter\n",
    "  - episodic task\n",
    "    - {+1, 0, -1}\n",
    "    - reward coverage? \n",
    "    - exploration amounts for each robot? \n",
    "      - reward this more. (since cooperation will help with more exploration later)\n",
    "    - 0 $\\rightarrow$ robots each explore, but do not cover the room\n",
    "  - robots will fall into each other's minima / create barriers for each other\n",
    "- pick space \n",
    "  - 10x10? length from this robot to other robots/obstacles\n",
    "- ???\n",
    "- profit\n",
    "\n",
    "- without learning, we do 1, 2, 3, 4\n",
    "- with learning we add in 5, 6"
   ]
  },
  {
   "cell_type": "code",
   "execution_count": null,
   "metadata": {},
   "outputs": [],
   "source": []
  }
 ],
 "metadata": {
  "kernelspec": {
   "display_name": "Python 3",
   "language": "python",
   "name": "python3"
  },
  "language_info": {
   "codemirror_mode": {
    "name": "ipython",
    "version": 3
   },
   "file_extension": ".py",
   "mimetype": "text/x-python",
   "name": "python",
   "nbconvert_exporter": "python",
   "pygments_lexer": "ipython3",
   "version": "3.7.1"
  }
 },
 "nbformat": 4,
 "nbformat_minor": 2
}
