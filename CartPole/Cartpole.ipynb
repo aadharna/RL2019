{
 "cells": [
  {
   "cell_type": "code",
   "execution_count": null,
   "metadata": {},
   "outputs": [],
   "source": [
    "import gym\n",
    "import time\n",
    "import random"
   ]
  },
  {
   "cell_type": "markdown",
   "metadata": {},
   "source": [
    "`Observation`: \n",
    "\n",
    "        Type: Box(4)\n",
    "        Num\tObservation                 Min         Max\n",
    "        0\tCart Position             -4.8            4.8\n",
    "        1\tCart Velocity             -Inf            Inf\n",
    "        2\tPole Angle                 -24 deg        24 deg\n",
    "        3\tPole Velocity At Tip      -Inf            Inf\n",
    "        \n",
    "`Actions`:\n",
    "\n",
    "        Type: Discrete(2)\n",
    "        Num\tAction\n",
    "        0\tPush cart to the left\n",
    "        1\tPush cart to the right\n",
    "        \n",
    "Note: The amount the velocity that is reduced or increased is not fixed; it depends on the angle the pole is pointing. This is because the center of gravity of the pole increases the amount of energy needed to move the cart underneath it\n",
    "    \n",
    "Reward:\n",
    "\n",
    "        Reward is 1 for every step taken, including the termination step\n",
    "        \n",
    "Starting State:\n",
    "\n",
    "        All observations are assigned a uniform random value in [-0.05..0.05]\n",
    "        \n",
    "Episode Termination:\n",
    "\n",
    "        Pole Angle is more than 12 degrees\n",
    "        Cart Position is more than 2.4 (center of the cart reaches the edge of the display)\n",
    "        Episode length is greater than 200\n",
    "        Solved Requirements\n",
    "        Considered solved when the average reward is greater than or equal to 195.0 over 100 consecutive trials."
   ]
  },
  {
   "cell_type": "code",
   "execution_count": 6,
   "metadata": {},
   "outputs": [
    {
     "name": "stdout",
     "output_type": "stream",
     "text": [
      "1\n",
      "[ 0.03371971  0.22860999  0.01298402 -0.30671772] 1.0 False {}\n",
      "1\n",
      "[ 0.03829191  0.03330545  0.00684966 -0.00996841] 1.0 False {}\n",
      "0\n",
      "[ 0.03895802  0.2283285   0.00665029 -0.30048234] 1.0 False {}\n",
      "1\n",
      "[ 0.04352459  0.42335504  0.00064065 -0.5910605 ] 1.0 False {}\n",
      "1\n",
      "[ 0.05199169  0.22822412 -0.01118056 -0.29817584] 1.0 False {}\n",
      "0\n",
      "[ 0.05655617  0.03326332 -0.01714408 -0.00903992] 1.0 False {}\n",
      "0\n",
      "[ 0.05722144 -0.16160862 -0.01732488  0.27818492] 1.0 False {}\n",
      "1\n",
      "[ 0.05398926 -0.35647919 -0.01176118  0.56535364] 1.0 False {}\n",
      "0\n",
      "[ 4.68596795e-02 -5.51434176e-01 -4.54106917e-04  8.54308189e-01] 1.0 False {}\n",
      "1\n",
      "[ 0.035831   -0.74654993  0.01663206  1.14684829] 1.0 False {}\n",
      "1\n",
      "[ 0.0209     -0.55164907  0.03956902  0.85942703] 1.0 False {}\n",
      "1\n",
      "[ 0.00986702 -0.747287    0.05675756  1.16428448] 1.0 False {}\n",
      "1\n",
      "[-0.00507872 -0.55294803  0.08004325  0.88992319] 1.0 False {}\n",
      "1\n",
      "[-0.01613768 -0.7490595   0.09784172  1.20665614] 1.0 False {}\n",
      "0\n",
      "[-0.03111887 -0.94529992  0.12197484  1.52832854] 1.0 False {}\n",
      "1\n",
      "[-0.05002487 -1.14166389  0.15254141  1.85645785] 1.0 False {}\n",
      "0\n",
      "[-0.07285815 -1.33809696  0.18967057  2.19235946] 1.0 False {}\n",
      "1\n",
      "[-0.09962009 -1.14524789  0.23351776  1.96370297] 1.0 True {}\n",
      "reward:  1.0\n",
      "Episode finished after 18 timesteps\n"
     ]
    }
   ],
   "source": [
    "env = gym.make('CartPole-v0')\n",
    "for i_episode in range(1):\n",
    "    observation = env.reset()\n",
    "    act=1\n",
    "    for t in range(100):\n",
    "        env.render()\n",
    "        action = env.action_space.sample()\n",
    "        print(action)\n",
    "        observation, reward, done, info = env.step(act)\n",
    "        print(observation,reward,done,info)\n",
    "        time.sleep(1)\n",
    "        act = random.randint(0,1)\n",
    "        if done:\n",
    "            print('reward: ', reward)\n",
    "            print(\"Episode finished after {} timesteps\".format(t+1))\n",
    "            break\n",
    "env.close()"
   ]
  },
  {
   "cell_type": "code",
   "execution_count": 4,
   "metadata": {},
   "outputs": [
    {
     "name": "stdout",
     "output_type": "stream",
     "text": [
      "Box(4,)\n",
      "Discrete(2)\n"
     ]
    }
   ],
   "source": [
    "print(env.observation_space)\n",
    "print(env.action_space)"
   ]
  },
  {
   "cell_type": "code",
   "execution_count": 5,
   "metadata": {},
   "outputs": [
    {
     "data": {
      "text/plain": [
       "array([ 0.0372484 , -0.00770244, -0.00651497, -0.01063067])"
      ]
     },
     "execution_count": 5,
     "metadata": {},
     "output_type": "execute_result"
    }
   ],
   "source": [
    "env.reset()"
   ]
  },
  {
   "cell_type": "code",
   "execution_count": 7,
   "metadata": {},
   "outputs": [],
   "source": [
    "def generate_episode_from_limit(cartPole_env):\n",
    "    episode = []\n",
    "    state = cartPole_env.reset()\n",
    "    while True:\n",
    "        action = 0 if state[0] > 18 else 1\n",
    "        next_state, reward, done, info = cartPole_env.step(action)\n",
    "        episode.append((state, action, reward))\n",
    "        state = next_state\n",
    "        if done:\n",
    "            break\n",
    "    return episode"
   ]
  },
  {
   "cell_type": "code",
   "execution_count": 8,
   "metadata": {},
   "outputs": [
    {
     "name": "stdout",
     "output_type": "stream",
     "text": [
      "[(array([-0.0306181 ,  0.00363127,  0.03188469,  0.00629467]), 1, 1.0), (array([-0.03054548,  0.19828179,  0.03201058, -0.27616019]), 1, 1.0), (array([-0.02657984,  0.39293277,  0.02648738, -0.55857757]), 1, 1.0), (array([-0.01872119,  0.5876731 ,  0.01531582, -0.84279922]), 1, 1.0), (array([-0.00696772,  0.7825827 , -0.00154016, -1.13062666]), 1, 1.0), (array([ 0.00868393,  0.97772478, -0.02415269, -1.42379225]), 1, 1.0), (array([ 0.02823843,  1.17313688, -0.05262854, -1.72392511]), 1, 1.0), (array([ 0.05170116,  1.36882007, -0.08710704, -2.03250913]), 1, 1.0), (array([ 0.07907756,  1.56472583, -0.12775722, -2.35083073]), 1, 1.0), (array([ 0.11037208,  1.76074037, -0.17477384, -2.67991483]), 1, 1.0)]\n",
      "[(array([ 0.04087079,  0.01712422, -0.03234482, -0.00216459]), 1, 1.0), (array([ 0.04121327,  0.21269476, -0.03238811, -0.30487467]), 1, 1.0), (array([ 0.04546717,  0.40826293, -0.0384856 , -0.60759352]), 1, 1.0), (array([ 0.05363243,  0.60390123, -0.05063747, -0.91214564]), 1, 1.0), (array([ 0.06571045,  0.79967037, -0.06888038, -1.220304  ]), 1, 1.0), (array([ 0.08170386,  0.99560914, -0.09328646, -1.53375003]), 1, 1.0), (array([ 0.10161604,  1.19172291, -0.12396146, -1.85402808]), 1, 1.0), (array([ 0.1254505 ,  1.38797032, -0.16104203, -2.18249177]), 1, 1.0), (array([ 0.15320991,  1.58424772, -0.20469186, -2.52024031]), 1, 1.0)]\n",
      "[(array([-0.03828849,  0.02138143,  0.0325206 , -0.02223134]), 1, 1.0), (array([-0.03786086,  0.21602228,  0.03207597, -0.30447886]), 1, 1.0), (array([-0.03354042,  0.41067278,  0.02598639, -0.58687571]), 1, 1.0), (array([-0.02532696,  0.60542133,  0.01424888, -0.87126076]), 1, 1.0), (array([-0.01321853,  0.80034661, -0.00317634, -1.15942998]), 1, 1.0), (array([ 0.0027884 ,  0.99550981, -0.02636493, -1.45310713]), 1, 1.0), (array([ 0.02269859,  1.19094545, -0.05542708, -1.75390911]), 1, 1.0), (array([ 0.0465175 ,  1.38665047, -0.09050526, -2.06330305]), 1, 1.0), (array([ 0.07425051,  1.58257083, -0.13177132, -2.38255302]), 1, 1.0), (array([ 0.10590193,  1.77858552, -0.17942238, -2.71265485]), 1, 1.0)]\n"
     ]
    }
   ],
   "source": [
    "for i in range(3):\n",
    "    print(generate_episode_from_limit(env))"
   ]
  },
  {
   "cell_type": "code",
   "execution_count": null,
   "metadata": {},
   "outputs": [],
   "source": []
  }
 ],
 "metadata": {
  "kernelspec": {
   "display_name": "Python 3",
   "language": "python",
   "name": "python3"
  },
  "language_info": {
   "codemirror_mode": {
    "name": "ipython",
    "version": 3
   },
   "file_extension": ".py",
   "mimetype": "text/x-python",
   "name": "python",
   "nbconvert_exporter": "python",
   "pygments_lexer": "ipython3",
   "version": "3.7.1"
  }
 },
 "nbformat": 4,
 "nbformat_minor": 2
}
