{
 "cells": [
  {
   "cell_type": "markdown",
   "metadata": {},
   "source": [
    "# Temporal-Difference Methods"
   ]
  },
  {
   "cell_type": "markdown",
   "metadata": {},
   "source": [
    "### Explore CliffWalkingEnv\n",
    "\n",
    "Use the code cell below to create an instance of the [CliffWalking](https://github.com/openai/gym/blob/master/gym/envs/toy_text/cliffwalking.py) environment."
   ]
  },
  {
   "cell_type": "code",
   "execution_count": 1,
   "metadata": {},
   "outputs": [],
   "source": [
    "import gym\n",
    "env = gym.make('CliffWalking-v0')"
   ]
  },
  {
   "cell_type": "markdown",
   "metadata": {},
   "source": [
    "The agent moves through a $4\\times 12$ gridworld, with states numbered as follows:\n",
    "```\n",
    "[[ 0,  1,  2,  3,  4,  5,  6,  7,  8,  9, 10, 11],\n",
    " [12, 13, 14, 15, 16, 17, 18, 19, 20, 21, 22, 23],\n",
    " [24, 25, 26, 27, 28, 29, 30, 31, 32, 33, 34, 35],\n",
    " [36, 37, 38, 39, 40, 41, 42, 43, 44, 45, 46, 47]]\n",
    "```\n",
    "At the start of any episode, state `36` is the initial state.  State `47` is the only terminal state, and the cliff corresponds to states `37` through `46`.\n",
    "\n",
    "The agent has 4 potential actions:\n",
    "```\n",
    "UP = 0\n",
    "RIGHT = 1\n",
    "DOWN = 2\n",
    "LEFT = 3\n",
    "```\n",
    "\n",
    "Thus, $\\mathcal{S}^+=\\{0, 1, \\ldots, 47\\}$, and $\\mathcal{A} =\\{0, 1, 2, 3\\}$.  Verify this by running the code cell below."
   ]
  },
  {
   "cell_type": "code",
   "execution_count": 2,
   "metadata": {},
   "outputs": [],
   "source": [
    "from collections import defaultdict\n",
    "import sys\n",
    "import numpy as np\n",
    "from plot_utils import plot_values\n",
    "import matplotlib.pyplot as plt"
   ]
  },
  {
   "cell_type": "markdown",
   "metadata": {},
   "source": [
    "### TD Prediction: State Values\n",
    "\n",
    "We will begin by investigating a policy where the agent moves:\n",
    "- `RIGHT` in states `0` through `10`, inclusive,  \n",
    "- `DOWN` in states `11`, `23`, and `35`, and\n",
    "- `UP` in states `12` through `22`, inclusive, states `24` through `34`, inclusive, and state `36`."
   ]
  },
  {
   "cell_type": "code",
   "execution_count": null,
   "metadata": {},
   "outputs": [],
   "source": [
    "policy = np.hstack([1*np.ones(11), 2, 0, np.zeros(10), 2, 0, np.zeros(10), 2, 0, -1*np.ones(11)])\n",
    "print(\"\\nPolicy (UP = 0, RIGHT = 1, DOWN = 2, LEFT = 3, N/A = -1):\")\n",
    "print(policy.reshape(4,12))"
   ]
  },
  {
   "cell_type": "markdown",
   "metadata": {},
   "source": [
    "Run the next cell to visualize the state-value function that corresponds to this policy."
   ]
  },
  {
   "cell_type": "code",
   "execution_count": null,
   "metadata": {},
   "outputs": [],
   "source": [
    "V_true = np.zeros((4,12))\n",
    "for i in range(3):\n",
    "    V_true[0:12][i] = -np.arange(3, 15)[::-1] - i\n",
    "V_true[1][11] = -2\n",
    "V_true[2][11] = -1\n",
    "V_true[3][0] = -17\n",
    "\n",
    "plot_values(V_true)"
   ]
  },
  {
   "cell_type": "markdown",
   "metadata": {},
   "source": [
    "TD prediction has five arguments:\n",
    "- `env`: This is an instance of an OpenAI Gym environment.\n",
    "- `num_episodes`: This is the number of episodes that are generated through agent-environment interaction.\n",
    "- `policy`: This is a 1D numpy array with `policy.shape` equal to the number of states (`env.nS`).  `policy[s]` returns the action that the agent chooses when in state `s`.\n",
    "- `alpha`: This is the step-size parameter for the update step.\n",
    "- `gamma`: This is the discount rate.  It must be a value between 0 and 1, inclusive (default value: `1`).\n",
    "\n",
    "The algorithm returns as output:\n",
    "- `V`: This is a dictionary where `V[s]` is the estimated value of state `s`."
   ]
  },
  {
   "cell_type": "code",
   "execution_count": null,
   "metadata": {},
   "outputs": [],
   "source": [
    "def td_prediction(env, num_episodes, policy, alpha, gamma=1.0):\n",
    "    # initialize empty dictionaries of floats\n",
    "    V = defaultdict(float)\n",
    "    # loop over episodes\n",
    "    for i_episode in range(1, num_episodes+1):\n",
    "        # monitor progress\n",
    "        if i_episode % 100 == 0:\n",
    "            print(\"\\rEpisode {}/{}\".format(i_episode, num_episodes), end=\"\")\n",
    "            sys.stdout.flush()\n",
    "    \n",
    "        state = env.reset()\n",
    "        while True:\n",
    "            action = policy[state]\n",
    "            next_state, reward, done, info = env.step(action)\n",
    "            V[state] += alpha*(reward + gamma*V[next_state] - V[state])\n",
    "            state = next_state\n",
    "            if done:\n",
    "                break\n",
    "    \n",
    "    return V "
   ]
  },
  {
   "cell_type": "code",
   "execution_count": null,
   "metadata": {},
   "outputs": [],
   "source": [
    "# evaluate the policy and reshape the state-value function\n",
    "V_pred = td_prediction(env, 5000, policy, .01)\n",
    "\n",
    "V_pred_plot = np.reshape([V_pred[key] if key in V_pred else 0 for key in np.arange(48)], (4,12)) \n",
    "plot_values(V_pred_plot)"
   ]
  },
  {
   "cell_type": "markdown",
   "metadata": {},
   "source": [
    "How close is your estimated state-value function to the true state-value function corresponding to the policy?  \n",
    "\n",
    "You might notice that some of the state values are not estimated by the agent.  This is because under this policy, the agent will not visit all of the states.  In the TD prediction algorithm, the agent can only estimate the values corresponding to states that are visited."
   ]
  },
  {
   "cell_type": "markdown",
   "metadata": {},
   "source": [
    "### TD Control: Sarsa\n",
    "\n",
    "The Sarsa algorithm has four arguments:\n",
    "- `env`: This is an instance of an OpenAI Gym environment.\n",
    "- `num_episodes`: This is the number of episodes that are generated through agent-environment interaction.\n",
    "- `alpha`: This is the step-size parameter for the update step.\n",
    "- `gamma`: This is the discount rate.  It must be a value between 0 and 1, inclusive (default value: `1`).\n",
    "- `fixedEpsilon`: defaults to False; should epsilon decay over time\n",
    "\n",
    "The algorithm returns as output:\n",
    "- `Q`: This is a dictionary (of one-dimensional arrays) where `Q[s][a]` is the estimated action value corresponding to state `s` and action `a`."
   ]
  },
  {
   "cell_type": "code",
   "execution_count": 3,
   "metadata": {},
   "outputs": [],
   "source": [
    "def e_greedy_policy_creation(Qstate, epsilon, nA):\n",
    "    \"\"\"\n",
    "    Q: Our Q table. \n",
    "      Q[state] = numpy.array\n",
    "      Q[state][action] = float.\n",
    "    epsilon: small value that controls exploration.\n",
    "    nA: the number of actions available in this environment\n",
    "    \n",
    "    return: an epsilon-greedy policy specific to the state.\n",
    "    \"\"\"\n",
    "    \n",
    "    policy = np.ones(nA) * epsilon/nA\n",
    "    policy[np.argmax(Qstate)] = 1 - epsilon + (epsilon / env.nA)        \n",
    "    return policy"
   ]
  },
  {
   "cell_type": "code",
   "execution_count": 4,
   "metadata": {},
   "outputs": [],
   "source": [
    "def choose_action(policy, env):\n",
    "    return np.random.choice(np.arange(env.nA), p=policy)"
   ]
  },
  {
   "cell_type": "code",
   "execution_count": 5,
   "metadata": {},
   "outputs": [],
   "source": [
    "def sarsa(env, num_episodes, alpha, gamma=1.0, fixedEpsilon = False):\n",
    "    # initialize action-value function (empty dictionary of arrays)\n",
    "    Q = defaultdict(lambda: np.zeros(env.nA))\n",
    "    # initialize performance monitor\n",
    "    # loop over episodes\n",
    "\n",
    "    for i_episode in range(1, num_episodes+1):        \n",
    "        state = env.reset()\n",
    "        #To see the policy from the book, keep epsilon fixed at 0.1\n",
    "        epsilon = 0.1 if fixedEpsilon else 1.0 / i_episode\n",
    "        # monitor progress\n",
    "        if i_episode % 100 == 0:\n",
    "            print(\"\\rEpisode {}/{}\".format(i_episode, num_episodes), end=\"\")\n",
    "            sys.stdout.flush() \n",
    "        done = False\n",
    "        policy = e_greedy_policy_creation(Q[state], epsilon, env.nA)    \n",
    "        action = choose_action(policy, env)\n",
    "        while not done:\n",
    "            sPrime, reward, done, info = env.step(action)\n",
    "            policySPrime = e_greedy_policy_creation(Q[sPrime], epsilon, env.nA)\n",
    "            aPrime = choose_action(policySPrime, env)\n",
    "            Q[state][action] += alpha * (reward + (gamma * Q[sPrime][aPrime]) - Q[state][action])\n",
    "            state, action = sPrime, aPrime\n",
    "    return Q"
   ]
  },
  {
   "cell_type": "code",
   "execution_count": null,
   "metadata": {},
   "outputs": [],
   "source": [
    "# obtain the estimated optimal policy and corresponding action-value function\n",
    "Q_sarsa = sarsa(env, 5000, .01)\n",
    "\n",
    "# print the estimated optimal policy\n",
    "policy_sarsa = np.array([np.argmax(Q_sarsa[key]) if key in Q_sarsa else -1 for key in np.arange(48)]).reshape(4,12)\n",
    "print(\"\\nEstimated Optimal Policy (UP = 0, RIGHT = 1, DOWN = 2, LEFT = 3, N/A = -1):\")\n",
    "print(policy_sarsa)\n",
    "\n",
    "# plot the estimated optimal state-value function\n",
    "V_sarsa = ([np.max(Q_sarsa[key]) if key in Q_sarsa else 0 for key in np.arange(48)])\n",
    "plot_values(V_sarsa)"
   ]
  },
  {
   "cell_type": "markdown",
   "metadata": {},
   "source": [
    "As noted in S&B, with a decaying epsilon, Sarsa finds the knife-edge optimal policy!"
   ]
  },
  {
   "cell_type": "markdown",
   "metadata": {},
   "source": [
    "### TD Control: Q-learning\n",
    "\n",
    "The Q-Learning algorithm has four arguments:\n",
    "- `env`: This is an instance of an OpenAI Gym environment.\n",
    "- `num_episodes`: This is the number of episodes that are generated through agent-environment interaction.\n",
    "- `alpha`: This is the step-size parameter for the update step.\n",
    "- `gamma`: This is the discount rate.  It must be a value between 0 and 1, inclusive (default value: `1`).\n",
    "\n",
    "The algorithm returns as output:\n",
    "- `Q`: This is a dictionary (of one-dimensional arrays) where `Q[s][a]` is the estimated action value corresponding to state `s` and action `a`."
   ]
  },
  {
   "cell_type": "code",
   "execution_count": null,
   "metadata": {},
   "outputs": [],
   "source": [
    "def q_learning(env, num_episodes, alpha, gamma=1.0):\n",
    "    # initialize action-value function (empty dictionary of arrays)\n",
    "    Q = defaultdict(lambda: np.zeros(env.nA))\n",
    "    # initialize performance monitor\n",
    "    # loop over episodes\n",
    "\n",
    "    for i_episode in range(1, num_episodes+1):        \n",
    "        state = env.reset()\n",
    "        epsilon = 1.0 / i_episode\n",
    "        # monitor progress\n",
    "        if i_episode % 100 == 0:\n",
    "            print(\"\\rEpisode {}/{}\".format(i_episode, num_episodes), end=\"\")\n",
    "            sys.stdout.flush() \n",
    "        done = False\n",
    "        policy = e_greedy_policy_creation(Q[state], epsilon, env.nA)    \n",
    "        while not done:\n",
    "            action = choose_action(policy, env)\n",
    "            sPrime, reward, done, info = env.step(action)\n",
    "            policy = e_greedy_policy_creation(Q[sPrime], epsilon, env.nA)\n",
    "            Q[state][action] += alpha * (reward + (gamma * np.max(Q[sPrime])) - Q[state][action])\n",
    "            state = sPrime\n",
    "    return Q"
   ]
  },
  {
   "cell_type": "code",
   "execution_count": null,
   "metadata": {},
   "outputs": [],
   "source": [
    "# obtain the estimated optimal policy and corresponding action-value function\n",
    "Q_sarsamax = q_learning(env, 5000, .01)\n",
    "\n",
    "# print the estimated optimal policy\n",
    "policy_sarsamax = np.array([np.argmax(Q_sarsamax[key]) if key in Q_sarsamax else -1 for key in np.arange(48)]).reshape((4,12))\n",
    "print(\"\\nEstimated Optimal Policy (UP = 0, RIGHT = 1, DOWN = 2, LEFT = 3, N/A = -1):\")\n",
    "print(policy_sarsamax)\n",
    "\n",
    "# plot the estimated optimal state-value function\n",
    "plot_values([np.max(Q_sarsamax[key]) if key in Q_sarsamax else 0 for key in np.arange(48)])"
   ]
  },
  {
   "cell_type": "markdown",
   "metadata": {},
   "source": [
    "As we can clearly see here, we have found the cliff/knife-edge optimal policy. "
   ]
  },
  {
   "cell_type": "markdown",
   "metadata": {},
   "source": [
    "### TD Control: Expected Sarsa\n",
    "\n",
    "The Expected Sarsa algorithm has four arguments:\n",
    "- `env`: This is an instance of an OpenAI Gym environment.\n",
    "- `num_episodes`: This is the number of episodes that are generated through agent-environment interaction.\n",
    "- `alpha`: This is the step-size parameter for the update step.\n",
    "- `gamma`: This is the discount rate.  It must be a value between 0 and 1, inclusive (default value: `1`).\n",
    "\n",
    "The algorithm returns as output:\n",
    "- `Q`: This is a dictionary (of one-dimensional arrays) where `Q[s][a]` is the estimated action value corresponding to state `s` and action `a`."
   ]
  },
  {
   "cell_type": "code",
   "execution_count": null,
   "metadata": {},
   "outputs": [],
   "source": [
    "def expected_sarsa(env, num_episodes, alpha, gamma=1.0):\n",
    "    # initialize action-value function (empty dictionary of arrays)\n",
    "    Q = defaultdict(lambda: np.zeros(env.nA))\n",
    "    # loop over episodes\n",
    "\n",
    "    for i_episode in range(1, num_episodes+1):        \n",
    "        state = env.reset()\n",
    "        epsilon = 1.0 / i_episode\n",
    "        # monitor progress\n",
    "        if i_episode % 100 == 0:\n",
    "            print(\"\\rEpisode {}/{}\".format(i_episode, num_episodes), end=\"\")\n",
    "            sys.stdout.flush() \n",
    "        done = False\n",
    "        policy = e_greedy_policy_creation(Q[state], epsilon, env.nA)    \n",
    "        while not done:\n",
    "            action = choose_action(policy, env)\n",
    "            sPrime, reward, done, info = env.step(action)\n",
    "            policy = e_greedy_policy_creation(Q[sPrime], epsilon, env.nA) \n",
    "            Q[state][action] += alpha * (reward + (gamma * np.dot(Q[sPrime], policy)) - Q[state][action])\n",
    "            state = sPrime\n",
    "    return Q"
   ]
  },
  {
   "cell_type": "code",
   "execution_count": null,
   "metadata": {},
   "outputs": [],
   "source": [
    "# obtain the estimated optimal policy and corresponding action-value function\n",
    "Q_expsarsa = expected_sarsa(env, 10000, 0.01)\n",
    "\n",
    "# print the estimated optimal policy\n",
    "policy_expsarsa = np.array([np.argmax(Q_expsarsa[key]) if key in Q_expsarsa else -1 for key in np.arange(48)]).reshape(4,12)\n",
    "print(\"\\nEstimated Optimal Policy (UP = 0, RIGHT = 1, DOWN = 2, LEFT = 3, N/A = -1):\")\n",
    "print(policy_expsarsa)\n",
    "\n",
    "# plot the estimated optimal state-value function\n",
    "plot_values([np.max(Q_expsarsa[key]) if key in Q_expsarsa else 0 for key in np.arange(48)])"
   ]
  },
  {
   "cell_type": "markdown",
   "metadata": {},
   "source": [
    "----\n",
    "\n",
    "Let us return to Sarsa, but instead use a fixed epsilon. When we do this, we will find that we will recreate the figure from the book: "
   ]
  },
  {
   "cell_type": "code",
   "execution_count": null,
   "metadata": {},
   "outputs": [],
   "source": [
    "# obtain the estimated optimal policy and corresponding action-value function\n",
    "Q_sarsa = sarsa(env, 10000, .01, fixedEpsilon=True)\n",
    "\n",
    "# print the estimated optimal policy\n",
    "policy_sarsa = np.array([np.argmax(Q_sarsa[key]) if key in Q_sarsa else -1 for key in np.arange(48)]).reshape(4,12)\n",
    "print(\"\\nEstimated Optimal Policy (UP = 0, RIGHT = 1, DOWN = 2, LEFT = 3, N/A = -1):\")\n",
    "print(policy_sarsa)\n",
    "\n",
    "# plot the estimated optimal state-value function\n",
    "V_sarsa = ([np.max(Q_sarsa[key]) if key in Q_sarsa else 0 for key in np.arange(48)])\n",
    "plot_values(V_sarsa)"
   ]
  },
  {
   "cell_type": "markdown",
   "metadata": {},
   "source": [
    "While this policy is not exactly the same as the one in the book, it illustrates the same concept. Our agent has learned to take safer actions by first going up to the second-to-the-top row before moving across the cliff wall. By constantly being forced to explore its surroundings, the Agent cannot walk the knife-edge policy or it risks taking an explore step that kills the agent. "
   ]
  },
  {
   "cell_type": "markdown",
   "metadata": {},
   "source": [
    "----\n",
    "\n",
    "Sarsa and Q-Learning behave different for the same initial conditions based on how they work. Since Q-learning simply takes the max of the available next options as the value for the current state, it is working off-policy. Whereas, with Sarsa we are still inexorably tied with our simulation of the env and the policy we are currently working off of. \n",
    "\n",
    "However, as shown above, when we let epsilon decay over time, both Sarsa, Q-learning, and ExpectedSarsa will converge to the optimal policy."
   ]
  },
  {
   "cell_type": "markdown",
   "metadata": {},
   "source": [
    "## Double Q learning"
   ]
  },
  {
   "cell_type": "code",
   "execution_count": 10,
   "metadata": {},
   "outputs": [],
   "source": [
    "def double_q_learning(env, num_episodes, alpha, gamma=1.0):\n",
    "    # initialize action-value function (empty dictionary of arrays)\n",
    "    Q = defaultdict(lambda: np.zeros(env.nA))\n",
    "    Q2 = defaultdict(lambda: np.zeros(env.nA))\n",
    "    # initialize performance monitor\n",
    "    # loop over episodes\n",
    "\n",
    "    for i_episode in range(1, num_episodes+1):        \n",
    "        state = env.reset()\n",
    "        epsilon = 1.0 / i_episode\n",
    "        # monitor progress\n",
    "        if i_episode % 100 == 0:\n",
    "            print(\"\\rEpisode {}/{}\".format(i_episode, num_episodes), end=\"\")\n",
    "            sys.stdout.flush() \n",
    "        done = False\n",
    "        policy = e_greedy_policy_creation(Q[state] + Q2[state], epsilon, env.nA)    \n",
    "        while not done:\n",
    "            action = choose_action(policy, env)\n",
    "            sPrime, reward, done, info = env.step(action)\n",
    "            policy = e_greedy_policy_creation(Q[sPrime] + Q2[sPrime], epsilon, env.nA)\n",
    "            if np.random.rand() < 0.5:\n",
    "                Q[state][action] += alpha * (reward + (gamma * np.max(Q2[sPrime])) - Q[state][action])\n",
    "            else:\n",
    "                Q2[state][action] += alpha * (reward + (gamma * np.max(Q[sPrime])) - Q2[state][action])\n",
    "            state = sPrime\n",
    "    finalQ = {s: Q[s] + Q2[s] for s in Q.keys()}\n",
    "    return finalQ"
   ]
  },
  {
   "cell_type": "code",
   "execution_count": 11,
   "metadata": {},
   "outputs": [
    {
     "name": "stdout",
     "output_type": "stream",
     "text": [
      "Episode 5000/5000\n",
      "Estimated Optimal Policy (UP = 0, RIGHT = 1, DOWN = 2, LEFT = 3, N/A = -1):\n",
      "[[ 0  1  2  3  1  1  0  2  2  1  2  2]\n",
      " [ 1  0  0  1  1  2  1  1  1  3  2  2]\n",
      " [ 1  1  1  1  1  1  1  1  1  1  1  2]\n",
      " [ 0 -1 -1 -1 -1 -1 -1 -1 -1 -1 -1  0]]\n"
     ]
    },
    {
     "data": {
      "image/png": "[encoded data removed]",
      "text/plain": [
       "<Figure size 1080x360 with 1 Axes>"
      ]
     },
     "metadata": {},
     "output_type": "display_data"
    }
   ],
   "source": [
    "# obtain the estimated optimal policy and corresponding action-value function\n",
    "double_Q = double_q_learning(env, 5000, .01)\n",
    "\n",
    "# print the estimated optimal policy\n",
    "policy_double_Q = np.array([np.argmax(double_Q[key]) if key in double_Q else -1 for key in np.arange(48)]).reshape((4,12))\n",
    "print(\"\\nEstimated Optimal Policy (UP = 0, RIGHT = 1, DOWN = 2, LEFT = 3, N/A = -1):\")\n",
    "print(policy_double_Q)\n",
    "\n",
    "# plot the estimated optimal state-value function\n",
    "plot_values([np.max(double_Q[key]) if key in double_Q else 0 for key in np.arange(48)])\n"
   ]
  },
  {
   "cell_type": "markdown",
   "metadata": {},
   "source": [
    "A future extension could be adding in a TD($\\lambda$) method/n-step method."
   ]
  },
  {
   "cell_type": "code",
   "execution_count": null,
   "metadata": {},
   "outputs": [],
   "source": []
  }
 ],
 "metadata": {
  "anaconda-cloud": {},
  "kernelspec": {
   "display_name": "Python 3",
   "language": "python",
   "name": "python3"
  },
  "language_info": {
   "codemirror_mode": {
    "name": "ipython",
    "version": 3
   },
   "file_extension": ".py",
   "mimetype": "text/x-python",
   "name": "python",
   "nbconvert_exporter": "python",
   "pygments_lexer": "ipython3",
   "version": "3.7.1"
  }
 },
 "nbformat": 4,
 "nbformat_minor": 2
}
